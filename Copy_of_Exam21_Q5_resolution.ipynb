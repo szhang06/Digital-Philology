{
  "nbformat": 4,
  "nbformat_minor": 0,
  "metadata": {
    "colab": {
      "name": "Copy of Exam21_Q5_resolution.ipynb",
      "provenance": [],
      "collapsed_sections": [],
      "mount_file_id": "1oMQ7c-LBk_-aw_FJrJWVRVe3eKK0MuHR",
      "authorship_tag": "ABX9TyPgOkeZB+6QxJtRRVmjSXh0",
      "include_colab_link": true
    },
    "kernelspec": {
      "name": "python3",
      "display_name": "Python 3"
    },
    "language_info": {
      "name": "python"
    }
  },
  "cells": [
    {
      "cell_type": "markdown",
      "metadata": {
        "id": "view-in-github",
        "colab_type": "text"
      },
      "source": [
        "<a href=\"https://colab.research.google.com/github/szhang06/Digital-Philology/blob/main/Copy_of_Exam21_Q5_resolution.ipynb\" target=\"_parent\"><img src=\"https://colab.research.google.com/assets/colab-badge.svg\" alt=\"Open In Colab\"/></a>"
      ]
    },
    {
      "cell_type": "code",
      "source": [
        "import pandas as pd\n"
      ],
      "metadata": {
        "id": "MG0IXFWCRT8G"
      },
      "execution_count": 5,
      "outputs": []
    },
    {
      "cell_type": "code",
      "metadata": {
        "id": "SBq6K0JzlHl7"
      },
      "source": [
        "import spacy"
      ],
      "execution_count": 2,
      "outputs": []
    },
    {
      "cell_type": "code",
      "metadata": {
        "id": "Ff2ZhTogpysk"
      },
      "source": [
        "def read_and_sort():\n",
        "\n",
        "  with open(\"/content/drive/MyDrive/dp_literary_analysis/female_five.txt\", \"r\") as f:\n",
        "    text_str = f.read()\n",
        "\n",
        "  with open(\"/content/drive/MyDrive/dp_literary_analysis/english.txt\", \"r\") as f:\n",
        "    stop_ls = [x.strip() for x in f.readlines()]\n",
        "\n",
        "  nlp = spacy.load(\"en_core_web_sm\")\n",
        "  nlp.max_length = 5000000\n",
        "\n",
        "  processed = nlp(text_str)\n",
        "  token_freq = {}\n",
        "  for token in processed:\n",
        "    if token.text.lower() in stop_ls:\n",
        "      token_freq[token.text.lower()] = token_freq.get(token.text.lower(), 0) + 1\n",
        "  \n",
        "  # # remove stopwords  \n",
        "  # for stopw in stop_ls:\n",
        "  #   if stopw in token_freq:\n",
        "  #     token_freq.pop(stopw)\n",
        "  total_freq = sum(token_freq.values())\n",
        "  token_freq_prob = [(key, value, value/total_freq) for key, value in token_freq.items()]\n",
        "  \n",
        "  # save to cvs\n",
        "  df = pd.DataFrame(token_freq_prob, columns = [\"token\", \"freq\", \"prob\"])\n",
        "  df.sort_values(by = \"prob\", ascending=False, inplace=True)\n",
        "  df.to_csv(\"female.txt.probs\", sep = \"\\t\", index = False)\n",
        "\n",
        "read_and_sort()"
      ],
      "execution_count": 11,
      "outputs": []
    },
    {
      "cell_type": "code",
      "source": [
        "def read_and_sort():\n",
        "\n",
        "  with open(\"/content/drive/MyDrive/dp_literary_analysis/male_five.txt\", \"r\") as f:\n",
        "    text_str = f.read()\n",
        "\n",
        "  with open(\"/content/drive/MyDrive/dp_literary_analysis/english.txt\", \"r\") as f:\n",
        "    stop_ls = [x.strip() for x in f.readlines()]\n",
        "\n",
        "  nlp = spacy.load(\"en_core_web_sm\")\n",
        "  nlp.max_length = 5000000\n",
        "\n",
        "  processed = nlp(text_str)\n",
        "  token_freq = {}\n",
        "  for token in processed:\n",
        "    if token.text.lower() in stop_ls:\n",
        "      token_freq[token.text.lower()] = token_freq.get(token.text.lower(), 0) + 1\n",
        "  \n",
        "  # # remove stopwords  \n",
        "  # for stopw in stop_ls:\n",
        "  #   if stopw in token_freq:\n",
        "  #     token_freq.pop(stopw)\n",
        "  total_freq = sum(token_freq.values())\n",
        "  token_freq_prob = [(key, value, value/total_freq) for key, value in token_freq.items()]\n",
        "  \n",
        "  # save to cvs\n",
        "  df = pd.DataFrame(token_freq_prob, columns = [\"token\", \"freq\", \"prob\"])\n",
        "  df.sort_values(by = \"prob\", ascending=False, inplace=True)\n",
        "  df.to_csv(\"male.csv\", sep = \"\\t\", index = False)\n",
        "\n",
        "read_and_sort()"
      ],
      "metadata": {
        "id": "CJPJy8dmTwBq"
      },
      "execution_count": 10,
      "outputs": []
    },
    {
      "cell_type": "code",
      "metadata": {
        "id": "zGWJznVumxcL"
      },
      "source": [
        "import numpy as np\n",
        "import pandas as pd\n",
        "import matplotlib.pyplot as plt\n",
        "import seaborn as sns"
      ],
      "execution_count": 8,
      "outputs": []
    },
    {
      "cell_type": "code",
      "metadata": {
        "id": "Htkeq8DW373U"
      },
      "source": [
        "A = np.array([[22, 28, 52],\n",
        "              [87, 12, 76],\n",
        "              [44, 61, 81],\n",
        "              [97, 4, 67],\n",
        "              [52, 14, 24],\n",
        "              [34, 82, 7]])\n",
        "\n",
        "B = np.array([[88, 41, 22, 1, 14, 70, 7, 48, 64],\n",
        "              [60, 10, 17, 34, 5, 57, 16, 98, 36]])"
      ],
      "execution_count": null,
      "outputs": []
    },
    {
      "cell_type": "code",
      "metadata": {
        "colab": {
          "base_uri": "https://localhost:8080/"
        },
        "id": "HlZ72mus4Mu7",
        "outputId": "22149e2e-ce28-4861-a35e-4692cac366ae"
      },
      "source": [
        "(A**2).max()"
      ],
      "execution_count": null,
      "outputs": [
        {
          "output_type": "execute_result",
          "data": {
            "text/plain": [
              "9409"
            ]
          },
          "metadata": {
            "tags": []
          },
          "execution_count": 5
        }
      ]
    },
    {
      "cell_type": "code",
      "metadata": {
        "colab": {
          "base_uri": "https://localhost:8080/"
        },
        "id": "vbY_c18Z41_8",
        "outputId": "931e88d9-bd93-4049-aaee-f12095ca048e"
      },
      "source": [
        "# 6.2\n",
        "sum(np.argmin(A, axis=0)) # get the index of min value"
      ],
      "execution_count": null,
      "outputs": [
        {
          "output_type": "execute_result",
          "data": {
            "text/plain": [
              "8"
            ]
          },
          "metadata": {
            "tags": []
          },
          "execution_count": 6
        }
      ]
    },
    {
      "cell_type": "code",
      "metadata": {
        "colab": {
          "base_uri": "https://localhost:8080/"
        },
        "id": "y-QYGct2c9l7",
        "outputId": "91d94a38-55a9-43ff-b2a9-99f0f8fc9dd3"
      },
      "source": [
        "np.concatenate((A, B.reshape(6,3)), axis=0) # default axis = 0, b is appended to a; axis = 1, extended"
      ],
      "execution_count": null,
      "outputs": [
        {
          "output_type": "execute_result",
          "data": {
            "text/plain": [
              "array([[22, 28, 52],\n",
              "       [87, 12, 76],\n",
              "       [44, 61, 81],\n",
              "       [97,  4, 67],\n",
              "       [52, 14, 24],\n",
              "       [34, 82,  7],\n",
              "       [88, 41, 22],\n",
              "       [ 1, 14, 70],\n",
              "       [ 7, 48, 64],\n",
              "       [60, 10, 17],\n",
              "       [34,  5, 57],\n",
              "       [16, 98, 36]])"
            ]
          },
          "metadata": {
            "tags": []
          },
          "execution_count": 7
        }
      ]
    },
    {
      "cell_type": "code",
      "metadata": {
        "colab": {
          "base_uri": "https://localhost:8080/"
        },
        "id": "FlYYBflv6HLY",
        "outputId": "267c5945-01a5-4615-d329-671a9cf6567d"
      },
      "source": [
        "np.average(np.concatenate((A, B.reshape(6,3)), axis=1), axis = 0)"
      ],
      "execution_count": null,
      "outputs": [
        {
          "output_type": "execute_result",
          "data": {
            "text/plain": [
              "array([56.        , 33.5       , 51.16666667, 34.33333333, 36.        ,\n",
              "       44.33333333])"
            ]
          },
          "metadata": {
            "tags": []
          },
          "execution_count": 7
        }
      ]
    },
    {
      "cell_type": "code",
      "metadata": {
        "id": "A5_gHU0Q7ixQ",
        "colab": {
          "base_uri": "https://localhost:8080/"
        },
        "outputId": "be51d596-1ab0-4875-f108-6a5886f8943a"
      },
      "source": [
        "#6.4\n",
        "C = np.concatenate((A, B.reshape(6,3)))\n",
        "print(C)"
      ],
      "execution_count": null,
      "outputs": [
        {
          "output_type": "stream",
          "text": [
            "[[22 28 52]\n",
            " [87 12 76]\n",
            " [44 61 81]\n",
            " [97  4 67]\n",
            " [52 14 24]\n",
            " [34 82  7]\n",
            " [88 41 22]\n",
            " [ 1 14 70]\n",
            " [ 7 48 64]\n",
            " [60 10 17]\n",
            " [34  5 57]\n",
            " [16 98 36]]\n"
          ],
          "name": "stdout"
        }
      ]
    },
    {
      "cell_type": "code",
      "metadata": {
        "colab": {
          "base_uri": "https://localhost:8080/"
        },
        "id": "2-4Gpd1Y4qCj",
        "outputId": "e7fc97f0-2653-4fc8-ba1b-fe488699973c"
      },
      "source": [
        "import random\n",
        "np.concatenate((C, np.random.randint(1,99, size = A.shape)))"
      ],
      "execution_count": null,
      "outputs": [
        {
          "output_type": "execute_result",
          "data": {
            "text/plain": [
              "array([[22, 28, 52],\n",
              "       [87, 12, 76],\n",
              "       [44, 61, 81],\n",
              "       [97,  4, 67],\n",
              "       [52, 14, 24],\n",
              "       [34, 82,  7],\n",
              "       [88, 41, 22],\n",
              "       [ 1, 14, 70],\n",
              "       [ 7, 48, 64],\n",
              "       [60, 10, 17],\n",
              "       [34,  5, 57],\n",
              "       [16, 98, 36],\n",
              "       [82, 28, 65],\n",
              "       [78, 68, 37],\n",
              "       [53, 87, 14],\n",
              "       [93, 59, 71],\n",
              "       [10,  7, 50],\n",
              "       [18, 72, 38]])"
            ]
          },
          "metadata": {
            "tags": []
          },
          "execution_count": 9
        }
      ]
    },
    {
      "cell_type": "code",
      "metadata": {
        "colab": {
          "base_uri": "https://localhost:8080/",
          "height": 426
        },
        "id": "HwVxaF3e93hD",
        "outputId": "09f2a2da-f750-4405-ec53-5091d6798356"
      },
      "source": [
        "df = pd.DataFrame(C, columns=[\"X\", \"Y\", \"Z\"])\n",
        "df"
      ],
      "execution_count": null,
      "outputs": [
        {
          "output_type": "execute_result",
          "data": {
            "text/html": [
              "<div>\n",
              "<style scoped>\n",
              "    .dataframe tbody tr th:only-of-type {\n",
              "        vertical-align: middle;\n",
              "    }\n",
              "\n",
              "    .dataframe tbody tr th {\n",
              "        vertical-align: top;\n",
              "    }\n",
              "\n",
              "    .dataframe thead th {\n",
              "        text-align: right;\n",
              "    }\n",
              "</style>\n",
              "<table border=\"1\" class=\"dataframe\">\n",
              "  <thead>\n",
              "    <tr style=\"text-align: right;\">\n",
              "      <th></th>\n",
              "      <th>X</th>\n",
              "      <th>Y</th>\n",
              "      <th>Z</th>\n",
              "    </tr>\n",
              "  </thead>\n",
              "  <tbody>\n",
              "    <tr>\n",
              "      <th>0</th>\n",
              "      <td>22</td>\n",
              "      <td>28</td>\n",
              "      <td>52</td>\n",
              "    </tr>\n",
              "    <tr>\n",
              "      <th>1</th>\n",
              "      <td>87</td>\n",
              "      <td>12</td>\n",
              "      <td>76</td>\n",
              "    </tr>\n",
              "    <tr>\n",
              "      <th>2</th>\n",
              "      <td>44</td>\n",
              "      <td>61</td>\n",
              "      <td>81</td>\n",
              "    </tr>\n",
              "    <tr>\n",
              "      <th>3</th>\n",
              "      <td>97</td>\n",
              "      <td>4</td>\n",
              "      <td>67</td>\n",
              "    </tr>\n",
              "    <tr>\n",
              "      <th>4</th>\n",
              "      <td>52</td>\n",
              "      <td>14</td>\n",
              "      <td>24</td>\n",
              "    </tr>\n",
              "    <tr>\n",
              "      <th>5</th>\n",
              "      <td>34</td>\n",
              "      <td>82</td>\n",
              "      <td>7</td>\n",
              "    </tr>\n",
              "    <tr>\n",
              "      <th>6</th>\n",
              "      <td>88</td>\n",
              "      <td>41</td>\n",
              "      <td>22</td>\n",
              "    </tr>\n",
              "    <tr>\n",
              "      <th>7</th>\n",
              "      <td>1</td>\n",
              "      <td>14</td>\n",
              "      <td>70</td>\n",
              "    </tr>\n",
              "    <tr>\n",
              "      <th>8</th>\n",
              "      <td>7</td>\n",
              "      <td>48</td>\n",
              "      <td>64</td>\n",
              "    </tr>\n",
              "    <tr>\n",
              "      <th>9</th>\n",
              "      <td>60</td>\n",
              "      <td>10</td>\n",
              "      <td>17</td>\n",
              "    </tr>\n",
              "    <tr>\n",
              "      <th>10</th>\n",
              "      <td>34</td>\n",
              "      <td>5</td>\n",
              "      <td>57</td>\n",
              "    </tr>\n",
              "    <tr>\n",
              "      <th>11</th>\n",
              "      <td>16</td>\n",
              "      <td>98</td>\n",
              "      <td>36</td>\n",
              "    </tr>\n",
              "  </tbody>\n",
              "</table>\n",
              "</div>"
            ],
            "text/plain": [
              "     X   Y   Z\n",
              "0   22  28  52\n",
              "1   87  12  76\n",
              "2   44  61  81\n",
              "3   97   4  67\n",
              "4   52  14  24\n",
              "5   34  82   7\n",
              "6   88  41  22\n",
              "7    1  14  70\n",
              "8    7  48  64\n",
              "9   60  10  17\n",
              "10  34   5  57\n",
              "11  16  98  36"
            ]
          },
          "metadata": {
            "tags": []
          },
          "execution_count": 15
        }
      ]
    },
    {
      "cell_type": "code",
      "metadata": {
        "colab": {
          "base_uri": "https://localhost:8080/",
          "height": 295
        },
        "id": "xBcxts4P-EJh",
        "outputId": "5d433bea-f280-4215-d3b8-b55a3393c2a5"
      },
      "source": [
        "sns.scatterplot(data=df, x=\"X\", y=\"Y\", size =\"Z\").set_title(\"A Very Informative Plot\")\n",
        "# plt.title(\"A Very Informative Plot\")\n",
        "plt.show()"
      ],
      "execution_count": null,
      "outputs": [
        {
          "output_type": "display_data",
          "data": {
            "image/png": "[encoded data removed]",
            "text/plain": [
              "<Figure size 432x288 with 1 Axes>"
            ]
          },
          "metadata": {
            "tags": [],
            "needs_background": "light"
          }
        }
      ]
    },
    {
      "cell_type": "code",
      "metadata": {
        "colab": {
          "base_uri": "https://localhost:8080/",
          "height": 295
        },
        "id": "4P4LtaLpnO4F",
        "outputId": "6c3969ba-2a10-4749-c26e-9b9c5b6701f0"
      },
      "source": [
        "# not showing here ?\n",
        "\n",
        "sns.lineplot(x=\"X\", y=\"Y\", data=df, size =\"Z\")\n",
        "plt.title(\"A Very Informative Plot\")\n",
        "plt.show()"
      ],
      "execution_count": null,
      "outputs": [
        {
          "output_type": "display_data",
          "data": {
            "image/png": "[encoded data removed]",
            "text/plain": [
              "<Figure size 432x288 with 1 Axes>"
            ]
          },
          "metadata": {
            "tags": [],
            "needs_background": "light"
          }
        }
      ]
    },
    {
      "cell_type": "code",
      "metadata": {
        "colab": {
          "base_uri": "https://localhost:8080/",
          "height": 295
        },
        "id": "9C36IVK0kOnn",
        "outputId": "903de600-ea0e-466c-973f-a857515bfb69"
      },
      "source": [
        "# plt method\n",
        "## can not show legends\n",
        "plt.scatter(df.X, df.Y)\n",
        "plt.xlabel(\"X\")\n",
        "plt.ylabel(\"Y\")\n",
        "plt.title(\"An Informative Plot\")\n",
        "plt.show()"
      ],
      "execution_count": null,
      "outputs": [
        {
          "output_type": "display_data",
          "data": {
            "image/png": "[encoded data removed]",
            "text/plain": [
              "<Figure size 432x288 with 1 Axes>"
            ]
          },
          "metadata": {
            "tags": [],
            "needs_background": "light"
          }
        }
      ]
    },
    {
      "cell_type": "code",
      "metadata": {
        "colab": {
          "base_uri": "https://localhost:8080/",
          "height": 295
        },
        "id": "rJoVII9FmMNt",
        "outputId": "8819ba1d-4d6f-41fc-f750-0d5a1003c060"
      },
      "source": [
        "df.plot(\"X\", \"Y\", kind = \"scatter\") # no size\n",
        "plt.title(\"An Informative Plot\")\n",
        "plt.show()"
      ],
      "execution_count": null,
      "outputs": [
        {
          "output_type": "display_data",
          "data": {
            "image/png": "[encoded data removed]",
            "text/plain": [
              "<Figure size 432x288 with 1 Axes>"
            ]
          },
          "metadata": {
            "tags": [],
            "needs_background": "light"
          }
        }
      ]
    },
    {
      "cell_type": "markdown",
      "metadata": {
        "id": "oHPU9rBOsMWs"
      },
      "source": [
        "### sns.relpot()\n",
        "--- relplot is FaceGrid, 只有x,y轴两边有直线"
      ]
    },
    {
      "cell_type": "code",
      "metadata": {
        "colab": {
          "base_uri": "https://localhost:8080/",
          "height": 399
        },
        "id": "RQHSjHmwsKpt",
        "outputId": "57dfebd7-b767-4f0d-fa74-28da6a04d16c"
      },
      "source": [
        "# sns.set(style=\"darkgrid\")\n",
        "\n",
        "sns.relplot(data=df, x=\"X\", y=\"Y\", size =\"Z\")\n",
        "plt.title(\"A Very Informative Plot\")\n",
        "plt.show()"
      ],
      "execution_count": null,
      "outputs": [
        {
          "output_type": "display_data",
          "data": {
            "image/png": "[encoded data removed]",
            "text/plain": [
              "<Figure size 408.75x360 with 1 Axes>"
            ]
          },
          "metadata": {
            "tags": [],
            "needs_background": "light"
          }
        }
      ]
    },
    {
      "cell_type": "code",
      "metadata": {
        "id": "Tl2Ev5bu0cYG"
      },
      "source": [
        ""
      ],
      "execution_count": null,
      "outputs": []
    }
  ]
}